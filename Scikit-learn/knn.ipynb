{
 "cells": [
  {
   "cell_type": "code",
   "execution_count": 6,
   "id": "ff09bd2d",
   "metadata": {},
   "outputs": [
    {
     "name": "stdout",
     "output_type": "stream",
     "text": [
      "predictins:  [0 0 0 0 1 0 1 0 2 0 0 0 0 0 0 1 1 0 0 1 0 1 1 0 0 1 2 0 0 1 0 0 1 0 0 1 1\n",
      " 0 1 0 1 0 0 1 0 0 2 0 1 0 1 0 0 0 3 0 0 0 0 0 0 0 0 0 1 0 0 1 1 0 1 1 1 0\n",
      " 0 0 2 0 1 0 1 0 0 0 0 0 0 1 0 1 0 0 0 0 0 0 1 3 1 0 1 0 1 0 0 0 1 0 0 0 0\n",
      " 0 1 1 0 0 0 0 0 0 0 0 1 1 0 1 0 0 0 0 0 0 0 1 0 0 0 1 0 0 0 0 0 0 1 0 0 0\n",
      " 0 0 0 0 0 0 1 0 0 0 1 0 0 0 1 1 0 0 1 0 0 0 0 1 1 0 1 0 0 0 1 0 0 0 0 0 0\n",
      " 0 0 0 0 1 1 0 0 0 1 0 0 0 0 1 0 1 0 3 2 0 0 0 0 0 0 0 1 0 0 0 1 1 0 0 0 0\n",
      " 0 2 0 0 1 1 0 1 0 0 0 0 1 0 1 0 0 0 0 0 0 1 0 0 2 1 0 0 0 1 1 0 0 1 0 0 0\n",
      " 0 1 0 0 0 0 2 0 0 0 0 0 0 1 1 0 0 0 1 0 0 1 0 0 1 1 0 1 0 3 0 0 0 1 0 1 3\n",
      " 1 1 0 1 0 1 0 0 0 0 0 0 1 0 0 1 0 1 0 2 0 0 0 1 1 2 3 0 0 0 0 2 0 1 0 0 0\n",
      " 1 0 0 0 0 0 0 1 0 0 0 0 0]\n",
      "accuracy:  0.7543352601156069\n",
      "actual value:  [0]\n",
      "predicted vlaue:  0\n"
     ]
    },
    {
     "name": "stderr",
     "output_type": "stream",
     "text": [
      "C:\\Users\\SEJALK~1\\AppData\\Local\\Temp/ipykernel_12912/4039166014.py:35: SettingWithCopyWarning: \n",
      "A value is trying to be set on a copy of a slice from a DataFrame.\n",
      "Try using .loc[row_indexer,col_indexer] = value instead\n",
      "\n",
      "See the caveats in the documentation: https://pandas.pydata.org/pandas-docs/stable/user_guide/indexing.html#returning-a-view-versus-a-copy\n",
      "  y['class']=y['class'].map(label_mapping)\n",
      "C:\\Users\\Sejal Kathane\\AppData\\Local\\Programs\\Python\\Python310\\lib\\site-packages\\sklearn\\neighbors\\_classification.py:215: DataConversionWarning: A column-vector y was passed when a 1d array was expected. Please change the shape of y to (n_samples,), for example using ravel().\n",
      "  return self._fit(X, y)\n"
     ]
    }
   ],
   "source": [
    "import numpy as np\n",
    "import pandas as pd\n",
    "from sklearn import neighbors, metrics\n",
    "from sklearn.model_selection import train_test_split\n",
    "from sklearn.preprocessing import LabelEncoder\n",
    "import matplotlib.pyplot as plt\n",
    "\n",
    "data=pd.read_csv('car.data')\n",
    "# print(data.head())\n",
    "\n",
    "x = data[[\n",
    "    'buying',\n",
    "    'maint',\n",
    "    'safety'\n",
    "]].values\n",
    "y=data[['class']]\n",
    "# print(x,y)\n",
    "\n",
    "# converting the data\n",
    "le=LabelEncoder()\n",
    "for i in range(len(x[0])):\n",
    "    x[:,i]=le.fit_transform(x[:,i])\n",
    "\n",
    "# print(x)\n",
    "\n",
    "\n",
    "\n",
    "# converting using maping:\n",
    "label_mapping={\n",
    "    'unacc':0,\n",
    "    'acc':1,\n",
    "    'good':2,\n",
    "    'vgood':3\n",
    "}\n",
    "y['class']=y['class'].map(label_mapping)\n",
    "y=np.array(y)\n",
    "# print(y)\n",
    "\n",
    "\n",
    "# create model\n",
    "\n",
    "knn =neighbors.KNeighborsClassifier(n_neighbors=25 , weights='uniform')\n",
    "# o.2 means 20% data for testing purpose\n",
    "x_train,x_test,y_train,y_test = train_test_split(x,y,test_size=0.2)\n",
    "# print(x_train.shape)\n",
    "# print(x_test.shape)\n",
    "# print(y_train.shape)\n",
    "# print(y_test.shape)\n",
    "\n",
    "knn.fit(x_train,y_train)\n",
    "prediction =knn.predict(x_test)\n",
    "accuracy=metrics.accuracy_score(y_test,prediction)\n",
    "print(\"predictins: \",prediction)\n",
    "print(\"accuracy: \",accuracy)\n",
    "\n",
    "a=999\n",
    "\n",
    "print(\"actual value: \",y[a])\n",
    "print(\"predicted vlaue: \",knn.predict(x)[a])"
   ]
  },
  {
   "cell_type": "code",
   "execution_count": null,
   "id": "b8fcb818",
   "metadata": {},
   "outputs": [],
   "source": []
  },
  {
   "cell_type": "code",
   "execution_count": null,
   "id": "cedb24de",
   "metadata": {},
   "outputs": [],
   "source": []
  },
  {
   "cell_type": "code",
   "execution_count": null,
   "id": "5ed72c69",
   "metadata": {},
   "outputs": [],
   "source": []
  },
  {
   "cell_type": "code",
   "execution_count": null,
   "id": "940ecfba",
   "metadata": {},
   "outputs": [],
   "source": []
  }
 ],
 "metadata": {
  "kernelspec": {
   "display_name": "Python 3 (ipykernel)",
   "language": "python",
   "name": "python3"
  },
  "language_info": {
   "codemirror_mode": {
    "name": "ipython",
    "version": 3
   },
   "file_extension": ".py",
   "mimetype": "text/x-python",
   "name": "python",
   "nbconvert_exporter": "python",
   "pygments_lexer": "ipython3",
   "version": "3.10.5"
  }
 },
 "nbformat": 4,
 "nbformat_minor": 5
}

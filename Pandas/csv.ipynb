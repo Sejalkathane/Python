{
 "cells": [
  {
   "cell_type": "code",
   "execution_count": null,
   "metadata": {},
   "outputs": [],
   "source": [
    "import pandas as pd\n",
    "ch=pd.read_csv('weather.csv',header=None ,prefix=\"col\")\n",
    "print(ch)\n",
    "\n",
    "\n"
   ]
  },
  {
   "cell_type": "code",
   "execution_count": 4,
   "metadata": {},
   "outputs": [
    {
     "name": "stdout",
     "output_type": "stream",
     "text": [
      "      Duration          Date  Pulse  Maxpulse  Calories\n",
      "0   0         60  '2020/12/01'    110       130   ...  \n",
      "1   1         60  '2020/12/02'    117       145   ...  \n",
      "2   2         60  '2020/12/03'              135   ...  \n",
      "3   3         45  '2020/12/04'    109       175   ...  \n",
      "4   4         45  '2020/12/05'    117       148   ...  \n",
      "5   5         60  '2020/12/06'    102       127   ...  \n",
      "6   6         60  '2020/12/07'              136   ...  \n",
      "7   7        450  '2020/12/08'    104       134   ...  \n",
      "8   8         30  '2020/12/09'    109       133   ...  \n",
      "9   9         60  '2020/12/10'     98       124   ...  \n",
      "10  10            '2020/12/11'    103       147   ...  \n",
      "11  11        60  '2020/12/12'    100       120   ...  \n",
      "12  12        60  '2020/12/12'    100       120   ...  \n",
      "13  13        60  '2020/12/13'    106       128   ...  \n",
      "14  14        60  '2020/12/14'    104       132   ...  \n",
      "15  15        60  '2020/12/15'     98       123   ...  \n",
      "16  16        60  '2020/12/16'     98       120   ...  \n",
      "17  17        60  '2020/12/17'    100       120   ...  \n",
      "18  19        60  '2020/12/19'    103       123   ...  \n",
      "19  20        45  '2020/12/20'     97       125   ...  \n",
      "20  21        60  '2020/12/21'    108       131   ...  \n",
      "21  23        60  '2020/12/23'    130       101   ...  \n",
      "22  24        45  '2020/12/24'    105       132   ...  \n",
      "23  25        60  '2020/12/25'    102       126   ...  \n",
      "24  26        60    2020/12/26    100       120   ...  \n",
      "25  27        60  '2020/12/27'     92       118   ...  \n",
      "26  29        60  '2020/12/29'    100       132   ...  \n",
      "27  30        60  '2020/12/30'    102       129   ...  \n",
      "28  31        60  '2020/12/31'     92       115   ...  \n"
     ]
    }
   ],
   "source": [
    "import pandas as pd \n",
    "\n",
    "# dropna:: \n",
    "var=pd.read_csv('s.csv')\n",
    "print(var)"
   ]
  }
 ],
 "metadata": {
  "kernelspec": {
   "display_name": "Python 3",
   "language": "python",
   "name": "python3"
  },
  "language_info": {
   "codemirror_mode": {
    "name": "ipython",
    "version": 3
   },
   "file_extension": ".py",
   "mimetype": "text/x-python",
   "name": "python",
   "nbconvert_exporter": "python",
   "pygments_lexer": "ipython3",
   "version": "3.10.5"
  },
  "orig_nbformat": 4
 },
 "nbformat": 4,
 "nbformat_minor": 2
}
